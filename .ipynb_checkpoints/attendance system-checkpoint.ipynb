{
 "cells": [
  {
   "cell_type": "code",
   "execution_count": 6,
   "id": "b8badda3",
   "metadata": {},
   "outputs": [],
   "source": [
    "import cv2\n",
    "import numpy as np\n",
    "import face_recognition\n",
    "import os\n",
    "from datetime import datetime\n",
    "import pandas as pd"
   ]
  },
  {
   "cell_type": "code",
   "execution_count": 7,
   "id": "2d6bd919",
   "metadata": {},
   "outputs": [
    {
     "name": "stdout",
     "output_type": "stream",
     "text": [
      "['messi.jpg']\n"
     ]
    }
   ],
   "source": [
    "file_path= os.path.join(os.getcwd())\n",
    "os.chdir(file_path)\n",
    "path= \"images\"\n",
    "images= []\n",
    "classNames= []\n",
    "mylist= os.listdir(path)\n",
    "print(mylist)"
   ]
  },
  {
   "cell_type": "code",
   "execution_count": 8,
   "id": "55364fbb",
   "metadata": {},
   "outputs": [
    {
     "name": "stdout",
     "output_type": "stream",
     "text": [
      "['messi']\n"
     ]
    }
   ],
   "source": [
    "for cl in mylist:\n",
    "    curimg= cv2.imread(f\"{path}/{cl}\")\n",
    "    images.append(curimg)\n",
    "    classNames.append(os.path.splitext(cl)[0])\n",
    "print(classNames)"
   ]
  },
  {
   "cell_type": "code",
   "execution_count": 4,
   "id": "51eb6832",
   "metadata": {},
   "outputs": [],
   "source": [
    "def findEncodings(images):\n",
    "    encodelist= []\n",
    "    for img in images:\n",
    "        img= cv2.cvtColor(img, cv2.COLOR_BGR2RGB)\n",
    "        encode= face_recognition.face_encodings(img)[0]\n",
    "        encodelist.append(encode)\n",
    "    return encodelist"
   ]
  },
  {
   "cell_type": "code",
   "execution_count": 16,
   "id": "a22839d5",
   "metadata": {},
   "outputs": [
    {
     "name": "stdout",
     "output_type": "stream",
     "text": [
      "Encoding Complete\n"
     ]
    }
   ],
   "source": [
    "def markAttendance(name):\n",
    "    file_path = 'Attendance.xlsx'\n",
    "    \n",
    "    # Check if the Excel file exists\n",
    "    if os.path.exists(file_path):\n",
    "        # Load the Excel file into a Pandas DataFrame\n",
    "        try:\n",
    "            df = pd.read_excel(file_path)\n",
    "        except Exception as e:\n",
    "            print(f\"Error reading the Excel file: {e}\")\n",
    "            df = pd.DataFrame(columns=['Name', 'Time'])\n",
    "    else:\n",
    "        # Create a new DataFrame if the file doesn't exist\n",
    "        df = pd.DataFrame(columns=['Name', 'Time'])\n",
    "\n",
    "    # Ensure the required columns exist\n",
    "    if 'Name' not in df.columns or 'Time' not in df.columns:\n",
    "        df = pd.DataFrame(columns=['Name', 'Time'])\n",
    "\n",
    "    # Check if the name already exists\n",
    "    if name not in df['Name'].values:\n",
    "        now = datetime.now()\n",
    "        dtstring = now.strftime('%H:%M:%S')\n",
    "        # Add the new entry\n",
    "        new_entry = pd.DataFrame({'Name': [name], 'Time': [dtstring]})\n",
    "        df = pd.concat([df, new_entry], ignore_index=True)\n",
    "\n",
    "    # Save the DataFrame back to the Excel file\n",
    "    df.to_excel(file_path, index=False)\n",
    "\n",
    "encodelistknown= findEncodings(images)"
   ]
  },
  {
   "cell_type": "code",
   "execution_count": 7,
   "id": "a41a2ab4",
   "metadata": {},
   "outputs": [
    {
     "name": "stdout",
     "output_type": "stream",
     "text": [
      "matches:  [False]\n",
      "matches:  [False]\n",
      "matches:  [False]\n",
      "matches:  [False]\n",
      "matches:  [False]\n",
      "matches:  [False]\n",
      "matches:  [False]\n",
      "matches:  [False]\n",
      "matches:  [False]\n",
      "matches:  [False]\n",
      "matches:  [False]\n",
      "matches:  [False]\n",
      "matches:  [False]\n",
      "matches:  [False]\n",
      "matches:  [False]\n",
      "matches:  [True]\n",
      "MESSI\n",
      "matches:  [False]\n",
      "matches:  [True]\n",
      "MESSI\n",
      "matches:  [False]\n",
      "matches:  [True]\n",
      "MESSI\n",
      "matches:  [False]\n",
      "matches:  [False]\n",
      "matches:  [False]\n",
      "matches:  [False]\n",
      "matches:  [False]\n",
      "matches:  [False]\n",
      "matches:  [False]\n",
      "matches:  [False]\n",
      "matches:  [False]\n",
      "matches:  [False]\n"
     ]
    }
   ],
   "source": [
    "cap= cv2.VideoCapture(0)\n",
    "frame_resizing= 0.25\n",
    "\n",
    "while True:\n",
    "    ret, frame= cap.read()\n",
    "    small_frame= cv2.resize(frame, (0, 0), fx= frame_resizing, fy= frame_resizing)\n",
    "    rgb_small_frame= cv2.cvtColor(small_frame, cv2.COLOR_BGR2RGB)\n",
    "    face_locations= face_recognition.face_locations(rgb_small_frame)\n",
    "    face_names= face_recognition.face_encodings(rgb_small_frame, face_locations)\n",
    "    for faceloc, name in zip(face_locations, face_names):\n",
    "        matches= face_recognition.compare_faces(encodelistknown, name)\n",
    "        print('matches: ', matches)\n",
    "        face_distances= face_recognition.face_distance(encodelistknown, name)\n",
    "        best_match_index= np.argmin(face_distances)\n",
    "        if matches[best_match_index]:\n",
    "                name= classNames[best_match_index].upper()\n",
    "                print(name)\n",
    "                \n",
    "                faceloc= np.array(faceloc)\n",
    "                faceloc= faceloc/0.25\n",
    "                faceloc= faceloc.astype(int)\n",
    "                y1, x2, y2, x1= faceloc[0], faceloc[1], faceloc[2], faceloc[3]\n",
    "                \n",
    "                cv2.rectangle(frame, (x1, y1), (x2, y2), (0, 255, 0), 4)\n",
    "                cv2.rectangle(frame, (x1, y2-35), (x2, y2), (0, 255, 0), cv2.FILLED)\n",
    "                cv2.putText(frame, name, (x1+6, y2-6), cv2.FONT_HERSHEY_DUPLEX, 1, (0, 0, 255), 2)\n",
    "                markAttendance(name)\n",
    "                \n",
    "    cv2.imshow(\"Frame\", frame)\n",
    "    key= cv2.waitKey(1)\n",
    "    if key == 27:\n",
    "        break\n",
    "        \n",
    "cap.release()\n",
    "cv2.destroyAllWindows()\n",
    "        "
   ]
  },
  {
   "cell_type": "code",
   "execution_count": null,
   "id": "538d70ff-432e-40f7-896a-9485113a4878",
   "metadata": {},
   "outputs": [],
   "source": []
  }
 ],
 "metadata": {
  "kernelspec": {
   "display_name": "Python 3 (ipykernel)",
   "language": "python",
   "name": "python3"
  },
  "language_info": {
   "codemirror_mode": {
    "name": "ipython",
    "version": 3
   },
   "file_extension": ".py",
   "mimetype": "text/x-python",
   "name": "python",
   "nbconvert_exporter": "python",
   "pygments_lexer": "ipython3",
   "version": "3.8.20"
  }
 },
 "nbformat": 4,
 "nbformat_minor": 5
}
